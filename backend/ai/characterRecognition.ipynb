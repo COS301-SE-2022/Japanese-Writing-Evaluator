{
 "cells": [
  {
   "cell_type": "code",
   "execution_count": null,
   "metadata": {},
   "outputs": [],
   "source": [
    "import numpy as np\n",
    "import time\n",
    "\n",
    "import PIL.Image as Image\n",
    "import matplotlib.pylab as plt\n",
    "\n",
    "import tensorflow as tf\n",
    "import tensorflow_hub as hub\n",
    "\n",
    "import datetime"
   ]
  },
  {
   "cell_type": "code",
   "execution_count": null,
   "metadata": {},
   "outputs": [],
   "source": [
    "train = os.path.join(path, 'train')\n",
    "val = os.path.join(path, 'validation')\n",
    "img_size = (150, 150)\n",
    "\n",
    "train_data = tf.keras.utils.image_dataset_from_directory(train, shuffle = True, batch_size = train_size, image_size = img_size)\n",
    "val_data = tf.keras.utils.image_dataset_from_directory(val, shuffle = True, batch_size = val_size, image_size = img_size)\n",
    "\n",
    "val_batches = tf.data.experimental.cardinality(val_data)\n",
    "test_data = val_data.take(val_batches // 5)\n",
    "val_data = val_data.skip(val_batches // 5)\n",
    "\n",
    "auto = tf.data.AUTOTUNE\n",
    "\n",
    "train_data = train_data.prefetch(buffer_size=auto)\n",
    "val_data = val_data.prefetch(buffer_size=auto)\n",
    "test_data = test_data.prefetch(buffer_size=auto)"
   ]
  },
  {
   "cell_type": "code",
   "execution_count": null,
   "metadata": {},
   "outputs": [],
   "source": [
    "base_model = tf.keras.application.ResNet50V2(\n",
    "    input_shape = img_size, \n",
    "    include_top = False, \n",
    "    weight='imagenet'\n",
    ")\n",
    "\n",
    "feature_layer = hub.KerasLayer(\n",
    "    base_model,\n",
    "    input_shape=(150,150,3),\n",
    "    trainable=False\n",
    ")\n",
    "\n",
    "model = tf.keras.Sequential([\n",
    "    feature_layer,\n",
    "    tf.keras.layers.Dense(num_classes, activation = \"softmax\")\n",
    "])\n",
    "model.summary()\n",
    "        \n",
    "base_learning_rate = 0.0001\n",
    "model.compile(\n",
    "    optimizer=tf.keras.optimizers.Adam(learning_rate=base_learning_rate),\n",
    "    loss=tf.keras.losses.BinaryCrossentropy(from_logits=True),\n",
    "    metrics=['accuracy']\n",
    ")\n",
    "model.summary()"
   ]
  },
  {
   "cell_type": "code",
   "execution_count": null,
   "metadata": {},
   "outputs": [],
   "source": [
    "history = self.model.fit(\n",
    "    self.train_data,\n",
    "    epochs = self.e,\n",
    "    validation_data=self.val_data\n",
    ")"
   ]
  }
 ],
 "metadata": {
  "language_info": {
   "name": "python"
  },
  "orig_nbformat": 4
 },
 "nbformat": 4,
 "nbformat_minor": 2
}
