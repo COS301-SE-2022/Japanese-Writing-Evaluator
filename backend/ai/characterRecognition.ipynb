{
 "cells": [
  {
   "cell_type": "code",
   "execution_count": null,
   "metadata": {},
   "outputs": [],
   "source": [
    "import numpy as np\n",
    "import time\n",
    "\n",
    "import PIL.Image as Image\n",
    "import matplotlib.pylab as plt\n",
    "\n",
    "import tensorflow as tf\n",
    "import tensorflow_hub as hub\n",
    "\n",
    "import datetime\n",
    "import os"
   ]
  },
  {
   "cell_type": "code",
   "execution_count": null,
   "metadata": {},
   "outputs": [],
   "source": [
    "path = 'dataset'\n",
    "train = os.path.join(path, 'train')\n",
    "val = os.path.join(path, 'validation')\n",
    "img_size = (150, 150)\n",
    "\n",
    "train_size = 12\n",
    "val_size = 8\n",
    "\n",
    "train_data = tf.keras.utils.image_dataset_from_directory(\n",
    "  train, \n",
    "  shuffle = True, \n",
    "  batch_size = train_size, \n",
    "  image_size = img_size\n",
    ")\n",
    "val_data = tf.keras.utils.image_dataset_from_directory(\n",
    "  val, \n",
    "  shuffle = True, \n",
    "  batch_size = val_size, \n",
    "  image_size = img_size\n",
    ")\n",
    "\n",
    "test_img = val_data\n",
    "val_batches = tf.data.experimental.cardinality(val_data)\n",
    "test_data = val_data.take(val_batches // 5)\n",
    "val_data = val_data.skip(val_batches // 5)\n",
    "print(len(val_data))\n",
    "auto = tf.data.AUTOTUNE\n",
    "\n",
    "train_data = train_data.prefetch(buffer_size=auto)\n",
    "val_data = val_data.prefetch(buffer_size=auto)\n",
    "test_data = test_data.prefetch(buffer_size=auto)"
   ]
  },
  {
   "cell_type": "code",
   "execution_count": null,
   "metadata": {},
   "outputs": [],
   "source": [
    "num_classes = 3\n",
    "img_shape = img_size + (3,)\n",
    "base_model = tf.keras.applications.ResNet50V2(\n",
    "    # input_shape = img_shape, \n",
    "    include_top = False, \n",
    "    weights='imagenet'\n",
    ")\n",
    "resnet_v2 = \"https://tfhub.dev/google/imagenet/resnet_v2_50/classification/5\"\n",
    "feature_layer = hub.KerasLayer(\n",
    "    resnet_v2,\n",
    "    input_shape=img_shape,\n",
    "    trainable=False\n",
    ")\n",
    "\n",
    "model = tf.keras.Sequential([\n",
    "    feature_layer,\n",
    "    tf.keras.layers.Dense(num_classes, activation = \"softmax\")\n",
    "])\n",
    "     \n",
    "model.compile(\n",
    "    optimizer=tf.keras.optimizers.Adam(),\n",
    "    loss=tf.keras.losses.SparseCategoricalCrossentropy(from_logits=True),\n",
    "    metrics=['accuracy']\n",
    ")\n",
    "model.summary()"
   ]
  },
  {
   "cell_type": "code",
   "execution_count": null,
   "metadata": {},
   "outputs": [],
   "source": [
    "history = model.fit(\n",
    "    train_data,\n",
    "    epochs=4,\n",
    "    validation_data=val_data\n",
    ")"
   ]
  }
 ],
 "metadata": {
  "language_info": {
   "name": "python"
  },
  "orig_nbformat": 4
 },
 "nbformat": 4,
 "nbformat_minor": 2
}
