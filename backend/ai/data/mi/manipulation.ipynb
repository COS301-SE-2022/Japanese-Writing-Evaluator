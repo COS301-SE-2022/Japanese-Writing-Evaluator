{
 "cells": [
  {
   "cell_type": "code",
   "execution_count": 11,
   "id": "557a7f55",
   "metadata": {},
   "outputs": [],
   "source": [
    "from PIL import Image , ImageFilter \n",
    "import tensorflow as tf\n",
    "import numpy as np\n",
    "import matplotlib.pyplot as plt\n",
    "image = Image.open('test.png')"
   ]
  },
  {
   "cell_type": "code",
   "execution_count": 12,
   "id": "dcf7add3",
   "metadata": {},
   "outputs": [],
   "source": [
    "new_image = image.resize((28, 28))\n",
    "new_image.save('image1.png')"
   ]
  },
  {
   "cell_type": "code",
   "execution_count": 13,
   "id": "1498b8c0",
   "metadata": {},
   "outputs": [
    {
     "name": "stdout",
     "output_type": "stream",
     "text": [
      "(28, 28)\n"
     ]
    }
   ],
   "source": [
    "print(new_image.size)"
   ]
  },
  {
   "cell_type": "code",
   "execution_count": 19,
   "id": "471a6756",
   "metadata": {},
   "outputs": [],
   "source": [
    "#blurred\n",
    "gaussImage = new_image.filter(ImageFilter.GaussianBlur(2))\n",
    "#gaussImage.show()\n",
    "gaussImage.save('blurred.png')"
   ]
  },
  {
   "cell_type": "code",
   "execution_count": 16,
   "id": "10bb1389",
   "metadata": {},
   "outputs": [
    {
     "name": "stderr",
     "output_type": "stream",
     "text": [
      "/var/folders/q3/q7w74v1s7j5g3bfx99w9lh680000gn/T/ipykernel_7791/330110694.py:8: DeprecationWarning: ROTATE_90 is deprecated and will be removed in Pillow 10 (2023-07-01). Use Transpose.ROTATE_90 instead.\n",
      "  transposed  = new_image.transpose(Image.ROTATE_90)\n"
     ]
    }
   ],
   "source": [
    "# Rotate it by 45 degrees\n",
    "\n",
    "rotated     = new_image.rotate(45)\n",
    "rotated.save('rotated.png')\n",
    "#im.save('45_rotated.png')\n",
    "# Rotate it by 90 degrees\n",
    "\n",
    "transposed  = new_image.transpose(Image.ROTATE_90)\n",
    "transposed.save('transposed.png')\n",
    "#im.save('90_rotated.png')"
   ]
  },
  {
   "cell_type": "code",
   "execution_count": 17,
   "id": "911f8e5a",
   "metadata": {},
   "outputs": [
    {
     "name": "stderr",
     "output_type": "stream",
     "text": [
      "/var/folders/q3/q7w74v1s7j5g3bfx99w9lh680000gn/T/ipykernel_7791/470593766.py:1: DeprecationWarning: FLIP_LEFT_RIGHT is deprecated and will be removed in Pillow 10 (2023-07-01). Use Transpose.FLIP_LEFT_RIGHT instead.\n",
      "  flipped1 = new_image.transpose(Image.FLIP_LEFT_RIGHT)\n",
      "/var/folders/q3/q7w74v1s7j5g3bfx99w9lh680000gn/T/ipykernel_7791/470593766.py:3: DeprecationWarning: FLIP_TOP_BOTTOM is deprecated and will be removed in Pillow 10 (2023-07-01). Use Transpose.FLIP_TOP_BOTTOM instead.\n",
      "  flipped2 = new_image.transpose(Image.FLIP_TOP_BOTTOM)\n"
     ]
    }
   ],
   "source": [
    "flipped1 = new_image.transpose(Image.FLIP_LEFT_RIGHT)\n",
    "flipped1.save(\"flipLR.png\")\n",
    "flipped2 = new_image.transpose(Image.FLIP_TOP_BOTTOM)\n",
    "flipped2.show()\n",
    "flipped2.save(\"flipTP.png\")"
   ]
  }
 ],
 "metadata": {
  "kernelspec": {
   "display_name": "Python 3 (ipykernel)",
   "language": "python",
   "name": "python3"
  },
  "language_info": {
   "codemirror_mode": {
    "name": "ipython",
    "version": 3
   },
   "file_extension": ".py",
   "mimetype": "text/x-python",
   "name": "python",
   "nbconvert_exporter": "python",
   "pygments_lexer": "ipython3",
   "version": "3.9.10"
  },
  "vscode": {
   "interpreter": {
    "hash": "aee8b7b246df8f9039afb4144a1f6fd8d2ca17a180786b69acc140d282b71a49"
   }
  }
 },
 "nbformat": 4,
 "nbformat_minor": 5
}
